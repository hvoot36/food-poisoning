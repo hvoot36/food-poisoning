{
 "cells": [
  {
   "cell_type": "markdown",
   "id": "ca0dfc10-37eb-4e94-8a37-2fdff5fae97b",
   "metadata": {},
   "source": [
    "# Classifying Food Poisoning Message using Unsupervised Learning\n",
    "\n",
    "## 1. Problem Definition\n",
    "\n",
    "\n",
    ">The objective of this notebook is to address the reported cases of food poisoning among patrons who dined at a restaurant in suburban Banglore.\n",
    "\n",
    "\n",
    "\n",
    "## 2. Methodology\n",
    "\n",
    "The objective of this notebook is achieved by using an unsupervised learning technique known as `clustering`. \n",
    "\n",
    "Clustering is an unsupervised learning method is a method in which we draw references from datasets consisting of input data without labeled responses. Generally, it is used as a process to find meaningful structure, explanatory underlying processes, generative features, and groupings inherent in a set of examples.\n",
    "\n",
    "\n",
    "\n",
    "We will be using `MiniBatchKMeans` as the estimator to conduct the unsupervised learning. \n",
    "\n",
    "The `MiniBatchKmeans` is a variant of the `KMeans` algorithm which uses mini-batches to reduce the computation time, while still attempting to optimise the same objective function."
   ]
  },
  {
   "cell_type": "markdown",
   "id": "345cb6d4-2047-46aa-8370-c3c85485a54e",
   "metadata": {},
   "source": [
    "## 3. Importing Modules\n",
    "\n",
    "run the following line in a new cell before importing the modules to install all the required modules:\n",
    "\n",
    "`!pip install -r requirements.txt`"
   ]
  },
  {
   "cell_type": "code",
   "execution_count": 1,
   "id": "f5c10ffc-c9bb-45fd-9040-c4303d2980e6",
   "metadata": {},
   "outputs": [],
   "source": [
    "import pandas as pd\n",
    "import numpy as np\n",
    "import matplotlib.pyplot as plt\n",
    "\n",
    "%matplotlib inline\n",
    "\n",
    "from sklearn.cluster import MiniBatchKMeans\n",
    "from sklearn.feature_extraction.text import TfidfVectorizer"
   ]
  },
  {
   "cell_type": "markdown",
   "id": "696fd733-034f-4893-87b8-49647023ba7c",
   "metadata": {},
   "source": [
    "## 4. Importing and Preparing the Unlabeled Data for Training the Model"
   ]
  },
  {
   "cell_type": "code",
   "execution_count": 2,
   "id": "de121318-33e8-49b3-b64c-01c263f204e5",
   "metadata": {},
   "outputs": [
    {
     "data": {
      "text/plain": [
       "2000"
      ]
     },
     "execution_count": 2,
     "metadata": {},
     "output_type": "execute_result"
    }
   ],
   "source": [
    "texts = pd.read_csv(\"./food-poisoning-messages.csv\", index_col=False, header=None)\n",
    "pd.set_option('display.max_colwidth', None)\n",
    "len(texts)"
   ]
  },
  {
   "cell_type": "code",
   "execution_count": 3,
   "id": "1cdc2473-f98e-4006-85ef-66ed40705cf5",
   "metadata": {},
   "outputs": [
    {
     "data": {
      "text/html": [
       "<div>\n",
       "<style scoped>\n",
       "    .dataframe tbody tr th:only-of-type {\n",
       "        vertical-align: middle;\n",
       "    }\n",
       "\n",
       "    .dataframe tbody tr th {\n",
       "        vertical-align: top;\n",
       "    }\n",
       "\n",
       "    .dataframe thead th {\n",
       "        text-align: right;\n",
       "    }\n",
       "</style>\n",
       "<table border=\"1\" class=\"dataframe\">\n",
       "  <thead>\n",
       "    <tr style=\"text-align: right;\">\n",
       "      <th></th>\n",
       "      <th>0</th>\n",
       "    </tr>\n",
       "  </thead>\n",
       "  <tbody>\n",
       "    <tr>\n",
       "      <th>0</th>\n",
       "      <td>Recently, there have been concerning reports about an uptick in cases of food poisoning associated with a popular restaurant in the city. Numerous individuals who dined at this establishment have reported symptoms such as severe nausea, vomiting, and stomach cramps within hours of consuming their meals. Health authorities are actively investigating the matter, urging anyone who has experienced similar symptoms to seek medical attention and report their cases.</td>\n",
       "    </tr>\n",
       "    <tr>\n",
       "      <th>1</th>\n",
       "      <td>It has come to our attention that there is an ongoing investigation into a local eatery due to multiple instances of food poisoning reported by customers. Health officials are working diligently to trace the source of the contamination and identify the specific food items responsible for the illnesses. In the meantime, it is strongly advised to avoid dining at this particular restaurant until further notice.</td>\n",
       "    </tr>\n",
       "    <tr>\n",
       "      <th>2</th>\n",
       "      <td>Amidst growing concerns about food safety, it has been discovered that a restaurant in our community is facing allegations of negligence leading to a surge in food poisoning cases. Customers have reported severe gastrointestinal distress, and the local health department is actively examining the establishment's hygiene practices. It is recommended that individuals who have recently patronized this restaurant and experienced symptoms like diarrhea or fever seek immediate medical attention.</td>\n",
       "    </tr>\n",
       "    <tr>\n",
       "      <th>3</th>\n",
       "      <td>Disturbing reports have emerged about a local food establishment where several patrons have fallen ill with symptoms consistent with food poisoning. The affected individuals have reported consuming meals from this specific restaurant, prompting health authorities to initiate an urgent investigation. As a precautionary measure, individuals who have dined at this establishment recently are advised to monitor their health closely and report any symptoms to the local health department.</td>\n",
       "    </tr>\n",
       "    <tr>\n",
       "      <th>4</th>\n",
       "      <td>In light of recent events, it has been brought to our attention that there is an ongoing investigation into a suspected outbreak of food poisoning linked to a popular restaurant chain. Numerous patrons have reported falling seriously ill after consuming meals at various branches of this establishment. Authorities are conducting thorough inspections and laboratory tests to pinpoint the exact cause of the contamination and ensure the safety of the public.</td>\n",
       "    </tr>\n",
       "  </tbody>\n",
       "</table>\n",
       "</div>"
      ],
      "text/plain": [
       "                                                                                                                                                                                                                                                                                                                                                                                                                                                                                                               0\n",
       "0                                Recently, there have been concerning reports about an uptick in cases of food poisoning associated with a popular restaurant in the city. Numerous individuals who dined at this establishment have reported symptoms such as severe nausea, vomiting, and stomach cramps within hours of consuming their meals. Health authorities are actively investigating the matter, urging anyone who has experienced similar symptoms to seek medical attention and report their cases.\n",
       "1                                                                                    It has come to our attention that there is an ongoing investigation into a local eatery due to multiple instances of food poisoning reported by customers. Health officials are working diligently to trace the source of the contamination and identify the specific food items responsible for the illnesses. In the meantime, it is strongly advised to avoid dining at this particular restaurant until further notice.\n",
       "2  Amidst growing concerns about food safety, it has been discovered that a restaurant in our community is facing allegations of negligence leading to a surge in food poisoning cases. Customers have reported severe gastrointestinal distress, and the local health department is actively examining the establishment's hygiene practices. It is recommended that individuals who have recently patronized this restaurant and experienced symptoms like diarrhea or fever seek immediate medical attention.\n",
       "3         Disturbing reports have emerged about a local food establishment where several patrons have fallen ill with symptoms consistent with food poisoning. The affected individuals have reported consuming meals from this specific restaurant, prompting health authorities to initiate an urgent investigation. As a precautionary measure, individuals who have dined at this establishment recently are advised to monitor their health closely and report any symptoms to the local health department.\n",
       "4                                      In light of recent events, it has been brought to our attention that there is an ongoing investigation into a suspected outbreak of food poisoning linked to a popular restaurant chain. Numerous patrons have reported falling seriously ill after consuming meals at various branches of this establishment. Authorities are conducting thorough inspections and laboratory tests to pinpoint the exact cause of the contamination and ensure the safety of the public."
      ]
     },
     "execution_count": 3,
     "metadata": {},
     "output_type": "execute_result"
    }
   ],
   "source": [
    "texts.head()"
   ]
  },
  {
   "cell_type": "markdown",
   "id": "1d56131f-09e0-4bf2-b373-dbccbb23e3bf",
   "metadata": {},
   "source": [
    "### Shuffling the Data and Converting to Significant Numerical Values using `TfidfVectorizer`\n",
    "\n",
    "`TfidfVectorizer` converts the given data into a matrix of tf-idf features.\n",
    "\n",
    "The tf–idf is the product of two statistics, term frequency and inverse document frequency. There are various ways for determining the exact values of both statistics. A formula that aims to define the importance of a keyword or phrase within a document or a web page."
   ]
  },
  {
   "cell_type": "code",
   "execution_count": 4,
   "id": "c57f4e23-150f-4afc-9284-60033afd6553",
   "metadata": {},
   "outputs": [],
   "source": [
    "texts = texts.sample(frac=1, random_state=42)"
   ]
  },
  {
   "cell_type": "code",
   "execution_count": 5,
   "id": "0eaf6ff8-e7bd-4873-b2bb-d1119152e587",
   "metadata": {},
   "outputs": [
    {
     "data": {
      "text/html": [
       "<div>\n",
       "<style scoped>\n",
       "    .dataframe tbody tr th:only-of-type {\n",
       "        vertical-align: middle;\n",
       "    }\n",
       "\n",
       "    .dataframe tbody tr th {\n",
       "        vertical-align: top;\n",
       "    }\n",
       "\n",
       "    .dataframe thead th {\n",
       "        text-align: right;\n",
       "    }\n",
       "</style>\n",
       "<table border=\"1\" class=\"dataframe\">\n",
       "  <thead>\n",
       "    <tr style=\"text-align: right;\">\n",
       "      <th></th>\n",
       "      <th>0</th>\n",
       "    </tr>\n",
       "  </thead>\n",
       "  <tbody>\n",
       "    <tr>\n",
       "      <th>1860</th>\n",
       "      <td>To delve into the nuances of perfumery, I attended a fragrance blending masterclass. Understanding base, middle, and top notes, and crafting a personalized fragrance not only heightened olfactory senses but also unveiled the artistry behind creating unique scents.</td>\n",
       "    </tr>\n",
       "    <tr>\n",
       "      <th>353</th>\n",
       "      <td>A recent meal at a restaurant has resulted in symptoms of food poisoning, including nausea and persistent digestive discomfort.</td>\n",
       "    </tr>\n",
       "    <tr>\n",
       "      <th>1333</th>\n",
       "      <td>Reconnecting with old friends over a video call, distance can't dull true friendships.</td>\n",
       "    </tr>\n",
       "    <tr>\n",
       "      <th>905</th>\n",
       "      <td>Customers who dined at a local establishment reported experiencing symptoms consistent with food poisoning, leading to heightened scrutiny of the restaurant's hygiene practices.</td>\n",
       "    </tr>\n",
       "    <tr>\n",
       "      <th>1289</th>\n",
       "      <td>On a quest for intellectual stimulation, I joined a philosophy reading group. Engaging in deep discussions on existentialism, ethics, and metaphysics broadened my perspectives and fostered a community of critical thinkers committed to exploring the profound questions of existence.</td>\n",
       "    </tr>\n",
       "  </tbody>\n",
       "</table>\n",
       "</div>"
      ],
      "text/plain": [
       "                                                                                                                                                                                                                                                                                              0\n",
       "1860                   To delve into the nuances of perfumery, I attended a fragrance blending masterclass. Understanding base, middle, and top notes, and crafting a personalized fragrance not only heightened olfactory senses but also unveiled the artistry behind creating unique scents.\n",
       "353                                                                                                                                                             A recent meal at a restaurant has resulted in symptoms of food poisoning, including nausea and persistent digestive discomfort.\n",
       "1333                                                                                                                                                                                                     Reconnecting with old friends over a video call, distance can't dull true friendships.\n",
       "905                                                                                                           Customers who dined at a local establishment reported experiencing symptoms consistent with food poisoning, leading to heightened scrutiny of the restaurant's hygiene practices.\n",
       "1289  On a quest for intellectual stimulation, I joined a philosophy reading group. Engaging in deep discussions on existentialism, ethics, and metaphysics broadened my perspectives and fostered a community of critical thinkers committed to exploring the profound questions of existence."
      ]
     },
     "execution_count": 5,
     "metadata": {},
     "output_type": "execute_result"
    }
   ],
   "source": [
    "texts.head()"
   ]
  },
  {
   "cell_type": "markdown",
   "id": "70e85b69-44c4-40a9-9cac-cd2939ce097f",
   "metadata": {},
   "source": [
    "Now we need to convert this df into a list to pass it throught the `TfidfVectorizer`."
   ]
  },
  {
   "cell_type": "code",
   "execution_count": 6,
   "id": "765fbc17-4c98-410c-8d07-e7c913b6d960",
   "metadata": {},
   "outputs": [
    {
     "data": {
      "text/plain": [
       "[['To delve into the nuances of perfumery, I attended a fragrance blending masterclass. Understanding base, middle, and top notes, and crafting a personalized fragrance not only heightened olfactory senses but also unveiled the artistry behind creating unique scents.'],\n",
       " ['A recent meal at a restaurant has resulted in symptoms of food poisoning, including nausea and persistent digestive discomfort.'],\n",
       " [\"Reconnecting with old friends over a video call, distance can't dull true friendships.\"],\n",
       " [\"Customers who dined at a local establishment reported experiencing symptoms consistent with food poisoning, leading to heightened scrutiny of the restaurant's hygiene practices.\"],\n",
       " ['On a quest for intellectual stimulation, I joined a philosophy reading group. Engaging in deep discussions on existentialism, ethics, and metaphysics broadened my perspectives and fostered a community of critical thinkers committed to exploring the profound questions of existence.'],\n",
       " ['A weekend immersed in immersive theater productions provided a unique storytelling experience. From interactive performances to site-specific plays, the boundary-blurring nature of immersive theater offered an unforgettable journey into the heart of narrative exploration.'],\n",
       " ['Concerns over food safety practices have been raised after diners reported symptoms of food poisoning following meals at a restaurant.'],\n",
       " ['Attending a virtual cooking workshop to learn new recipes and culinary techniques.'],\n",
       " ['Urgent health advisories have been issued in response to a surge in reported cases of food poisoning associated with a specific restaurant in our community. Multiple individuals who have patronized this establishment have fallen ill with symptoms indicative of foodborne illness. Health authorities are working tirelessly to trace the source of contamination, and it is strongly recommended that individuals who have recently visited this restaurant monitor their health and report any symptoms promptly.'],\n",
       " ['Admiring the vibrant colors of autumn leaves during a walk in the park.']]"
      ]
     },
     "execution_count": 6,
     "metadata": {},
     "output_type": "execute_result"
    }
   ],
   "source": [
    "texts.to_numpy().tolist()[:10]"
   ]
  },
  {
   "cell_type": "markdown",
   "id": "10c6f25e-88bf-4f1e-81fe-cf810d5af19f",
   "metadata": {},
   "source": [
    "This is a 2d list which further needs to be reduced to a 1d list."
   ]
  },
  {
   "cell_type": "code",
   "execution_count": 7,
   "id": "8cd46375-26a0-4697-9a7c-bab08860c28d",
   "metadata": {},
   "outputs": [
    {
     "data": {
      "text/plain": [
       "['To delve into the nuances of perfumery, I attended a fragrance blending masterclass. Understanding base, middle, and top notes, and crafting a personalized fragrance not only heightened olfactory senses but also unveiled the artistry behind creating unique scents.',\n",
       " 'A recent meal at a restaurant has resulted in symptoms of food poisoning, including nausea and persistent digestive discomfort.',\n",
       " \"Reconnecting with old friends over a video call, distance can't dull true friendships.\",\n",
       " \"Customers who dined at a local establishment reported experiencing symptoms consistent with food poisoning, leading to heightened scrutiny of the restaurant's hygiene practices.\",\n",
       " 'On a quest for intellectual stimulation, I joined a philosophy reading group. Engaging in deep discussions on existentialism, ethics, and metaphysics broadened my perspectives and fostered a community of critical thinkers committed to exploring the profound questions of existence.',\n",
       " 'A weekend immersed in immersive theater productions provided a unique storytelling experience. From interactive performances to site-specific plays, the boundary-blurring nature of immersive theater offered an unforgettable journey into the heart of narrative exploration.',\n",
       " 'Concerns over food safety practices have been raised after diners reported symptoms of food poisoning following meals at a restaurant.',\n",
       " 'Attending a virtual cooking workshop to learn new recipes and culinary techniques.',\n",
       " 'Urgent health advisories have been issued in response to a surge in reported cases of food poisoning associated with a specific restaurant in our community. Multiple individuals who have patronized this establishment have fallen ill with symptoms indicative of foodborne illness. Health authorities are working tirelessly to trace the source of contamination, and it is strongly recommended that individuals who have recently visited this restaurant monitor their health and report any symptoms promptly.',\n",
       " 'Admiring the vibrant colors of autumn leaves during a walk in the park.']"
      ]
     },
     "execution_count": 7,
     "metadata": {},
     "output_type": "execute_result"
    }
   ],
   "source": [
    "texts = [j for i in texts.to_numpy().tolist() for j in i] #converting 2d list to 1d list\n",
    "texts[:10]"
   ]
  },
  {
   "cell_type": "markdown",
   "id": "64c3cf06-d424-4c41-a2ef-ba852952ef73",
   "metadata": {},
   "source": [
    "Now the list can be passed through the vectorizer."
   ]
  },
  {
   "cell_type": "code",
   "execution_count": 8,
   "id": "c1750c4d-5567-4aba-b961-65fc21084fcc",
   "metadata": {},
   "outputs": [],
   "source": [
    "vectorizer = TfidfVectorizer(stop_words=\"english\")\n",
    "X = vectorizer.fit_transform(texts)"
   ]
  },
  {
   "cell_type": "markdown",
   "id": "77e8ce13-2c24-43cd-9e2d-10a4505673c0",
   "metadata": {},
   "source": [
    "## 5. Training the Model"
   ]
  },
  {
   "cell_type": "code",
   "execution_count": 9,
   "id": "be7736ba-c2d9-47f4-a0e2-63fba4e076f8",
   "metadata": {},
   "outputs": [
    {
     "name": "stderr",
     "output_type": "stream",
     "text": [
      "/home/hvootukuri/miniconda3/envs/food-poisoning-env/lib/python3.11/site-packages/sklearn/cluster/_kmeans.py:870: FutureWarning: The default value of `n_init` will change from 3 to 'auto' in 1.4. Set the value of `n_init` explicitly to suppress the warning\n",
      "  warnings.warn(\n"
     ]
    }
   ],
   "source": [
    "number_of_clusters = 2\n",
    "model = MiniBatchKMeans(n_clusters=number_of_clusters, random_state=42)\n",
    "model.fit(X);"
   ]
  },
  {
   "cell_type": "markdown",
   "id": "6ea8705e-4fb1-4f96-a41f-2e40efa16f91",
   "metadata": {},
   "source": [
    "### Grouping the texts based on clusters\n"
   ]
  },
  {
   "cell_type": "code",
   "execution_count": 10,
   "id": "54a60f19-cf09-47a5-85a3-500f3612d34c",
   "metadata": {},
   "outputs": [],
   "source": [
    "clusters = model.labels_\n",
    "\n",
    "grouped_texts = {}\n",
    "for i,text in enumerate(texts):\n",
    "    cluster = clusters[i]\n",
    "    if cluster not in grouped_texts:\n",
    "        grouped_texts[cluster] = []\n",
    "    grouped_texts[cluster].append(text)"
   ]
  },
  {
   "cell_type": "code",
   "execution_count": 11,
   "id": "5dcead4f-a7db-404e-bb8b-44c56bb7bd48",
   "metadata": {},
   "outputs": [
    {
     "data": {
      "text/plain": [
       "array([1, 1, 1, ..., 1, 1, 0], dtype=int32)"
      ]
     },
     "execution_count": 11,
     "metadata": {},
     "output_type": "execute_result"
    }
   ],
   "source": [
    "clusters"
   ]
  },
  {
   "cell_type": "code",
   "execution_count": 12,
   "id": "ecee584a-d8c3-4f5e-8c14-cab29debf4eb",
   "metadata": {},
   "outputs": [
    {
     "data": {
      "text/html": [
       "<div>\n",
       "<style scoped>\n",
       "    .dataframe tbody tr th:only-of-type {\n",
       "        vertical-align: middle;\n",
       "    }\n",
       "\n",
       "    .dataframe tbody tr th {\n",
       "        vertical-align: top;\n",
       "    }\n",
       "\n",
       "    .dataframe thead th {\n",
       "        text-align: right;\n",
       "    }\n",
       "</style>\n",
       "<table border=\"1\" class=\"dataframe\">\n",
       "  <thead>\n",
       "    <tr style=\"text-align: right;\">\n",
       "      <th></th>\n",
       "      <th>0</th>\n",
       "    </tr>\n",
       "  </thead>\n",
       "  <tbody>\n",
       "    <tr>\n",
       "      <th>To delve into the nuances of perfumery, I attended a fragrance blending masterclass. Understanding base, middle, and top notes, and crafting a personalized fragrance not only heightened olfactory senses but also unveiled the artistry behind creating unique scents.</th>\n",
       "      <td>1</td>\n",
       "    </tr>\n",
       "    <tr>\n",
       "      <th>A recent meal at a restaurant has resulted in symptoms of food poisoning, including nausea and persistent digestive discomfort.</th>\n",
       "      <td>1</td>\n",
       "    </tr>\n",
       "    <tr>\n",
       "      <th>Reconnecting with old friends over a video call, distance can't dull true friendships.</th>\n",
       "      <td>1</td>\n",
       "    </tr>\n",
       "    <tr>\n",
       "      <th>Customers who dined at a local establishment reported experiencing symptoms consistent with food poisoning, leading to heightened scrutiny of the restaurant's hygiene practices.</th>\n",
       "      <td>1</td>\n",
       "    </tr>\n",
       "    <tr>\n",
       "      <th>On a quest for intellectual stimulation, I joined a philosophy reading group. Engaging in deep discussions on existentialism, ethics, and metaphysics broadened my perspectives and fostered a community of critical thinkers committed to exploring the profound questions of existence.</th>\n",
       "      <td>1</td>\n",
       "    </tr>\n",
       "    <tr>\n",
       "      <th>...</th>\n",
       "      <td>...</td>\n",
       "    </tr>\n",
       "    <tr>\n",
       "      <th>Took a pottery class, getting hands-on with clay is therapeutic.</th>\n",
       "      <td>0</td>\n",
       "    </tr>\n",
       "    <tr>\n",
       "      <th>Seeking intellectual stimulation, I enrolled in a philosophy of science course. The discussions on scientific methodology, the philosophy behind empirical inquiry, and the intersection of science and ethics deepened my understanding of the scientific endeavor.</th>\n",
       "      <td>1</td>\n",
       "    </tr>\n",
       "    <tr>\n",
       "      <th>Experiencing nausea and diarrhea after dining out; suspecting foodborne contamination.</th>\n",
       "      <td>1</td>\n",
       "    </tr>\n",
       "    <tr>\n",
       "      <th>Spent the evening making homemade pizza with fresh toppings. Better than takeout!</th>\n",
       "      <td>1</td>\n",
       "    </tr>\n",
       "    <tr>\n",
       "      <th>Took a dance class, music and movement are such a joyous combination.</th>\n",
       "      <td>0</td>\n",
       "    </tr>\n",
       "  </tbody>\n",
       "</table>\n",
       "<p>2000 rows × 1 columns</p>\n",
       "</div>"
      ],
      "text/plain": [
       "                                                                                                                                                                                                                                                                                           0\n",
       "To delve into the nuances of perfumery, I attended a fragrance blending masterclass. Understanding base, middle, and top notes, and crafting a personalized fragrance not only heightened olfactory senses but also unveiled the artistry behind creating unique scents.                   1\n",
       "A recent meal at a restaurant has resulted in symptoms of food poisoning, including nausea and persistent digestive discomfort.                                                                                                                                                            1\n",
       "Reconnecting with old friends over a video call, distance can't dull true friendships.                                                                                                                                                                                                     1\n",
       "Customers who dined at a local establishment reported experiencing symptoms consistent with food poisoning, leading to heightened scrutiny of the restaurant's hygiene practices.                                                                                                          1\n",
       "On a quest for intellectual stimulation, I joined a philosophy reading group. Engaging in deep discussions on existentialism, ethics, and metaphysics broadened my perspectives and fostered a community of critical thinkers committed to exploring the profound questions of existence.  1\n",
       "...                                                                                                                                                                                                                                                                                       ..\n",
       "Took a pottery class, getting hands-on with clay is therapeutic.                                                                                                                                                                                                                           0\n",
       "Seeking intellectual stimulation, I enrolled in a philosophy of science course. The discussions on scientific methodology, the philosophy behind empirical inquiry, and the intersection of science and ethics deepened my understanding of the scientific endeavor.                       1\n",
       "Experiencing nausea and diarrhea after dining out; suspecting foodborne contamination.                                                                                                                                                                                                     1\n",
       "Spent the evening making homemade pizza with fresh toppings. Better than takeout!                                                                                                                                                                                                          1\n",
       "Took a dance class, music and movement are such a joyous combination.                                                                                                                                                                                                                      0\n",
       "\n",
       "[2000 rows x 1 columns]"
      ]
     },
     "execution_count": 12,
     "metadata": {},
     "output_type": "execute_result"
    }
   ],
   "source": [
    "pd.DataFrame(clusters,texts)"
   ]
  },
  {
   "cell_type": "markdown",
   "id": "99ef3fe3-9c4d-4e99-ace1-ccec7f02f5aa",
   "metadata": {},
   "source": [
    "### Identifying the food poisoning related cluster"
   ]
  },
  {
   "cell_type": "code",
   "execution_count": 13,
   "id": "b890fdc7-3514-405f-8ae8-b7c46f1e43d7",
   "metadata": {},
   "outputs": [
    {
     "data": {
      "text/plain": [
       "1"
      ]
     },
     "execution_count": 13,
     "metadata": {},
     "output_type": "execute_result"
    }
   ],
   "source": [
    "keywords = [\"food poisoning\", \"sick\", \"hospitalized\", \"nausea\", \"vomiting\", \"cramps\", \"diarrhea\"]\n",
    "\n",
    "food_poisoning_cluster = [cluster for cluster, texts in grouped_texts.items() if any(keyword in ''.join(texts).lower() for keyword in keywords)][0]\n",
    "food_poisoning_cluster"
   ]
  },
  {
   "cell_type": "markdown",
   "id": "228c3049-15d3-428c-8fca-144e21a09006",
   "metadata": {},
   "source": [
    "## 6. Predicting Values\n",
    "\n",
    "Now let's use the trained model to predict if a given text is related to food poisoning or not."
   ]
  },
  {
   "cell_type": "code",
   "execution_count": 14,
   "id": "3acf7485-54b3-44cc-919a-1a73b0fe9d34",
   "metadata": {},
   "outputs": [],
   "source": [
    "def predictCluster(text):\n",
    "    vector = vectorizer.transform([text])\n",
    "    pred = model.predict(vector)[0]\n",
    "    return pred\n",
    "\n",
    "def isFoodPoisoning(text):\n",
    "    return True if (predictCluster(text) == food_poisoning_cluster) else False"
   ]
  },
  {
   "cell_type": "code",
   "execution_count": 15,
   "id": "07e37ed0-9ed3-43cd-9b10-e4d8517121d5",
   "metadata": {},
   "outputs": [
    {
     "name": "stdout",
     "output_type": "stream",
     "text": [
      "The message is food poisoning related.\n"
     ]
    }
   ],
   "source": [
    "example_text = \"I have nausea and stomachache because of food poisoning.\"\n",
    "if isFoodPoisoning(example_text):\n",
    "    print(\"The message is food poisoning related.\")\n",
    "else:\n",
    "    print(\"The message is not food poisoning related.\")"
   ]
  },
  {
   "cell_type": "markdown",
   "id": "50479b73-706e-4ce4-a977-e60906947257",
   "metadata": {},
   "source": [
    "## 7. Conclusion\n",
    "\n",
    "The model has been successfully trained using Unsupervised Learning techniques to achieve the objective of classifying if a given text message is related to food poisoning or not."
   ]
  }
 ],
 "metadata": {
  "kernelspec": {
   "display_name": "Python 3 (ipykernel)",
   "language": "python",
   "name": "python3"
  },
  "language_info": {
   "codemirror_mode": {
    "name": "ipython",
    "version": 3
   },
   "file_extension": ".py",
   "mimetype": "text/x-python",
   "name": "python",
   "nbconvert_exporter": "python",
   "pygments_lexer": "ipython3",
   "version": "3.11.8"
  }
 },
 "nbformat": 4,
 "nbformat_minor": 5
}
