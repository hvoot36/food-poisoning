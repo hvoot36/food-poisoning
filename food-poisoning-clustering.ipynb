{
 "cells": [
  {
   "cell_type": "markdown",
   "id": "ca0dfc10-37eb-4e94-8a37-2fdff5fae97b",
   "metadata": {},
   "source": [
    "# Classifying Food Poisoning Message using Unsupervised Learning\n",
    "\n",
    "The objective of this notebook is to address the reported cases of food poisoning among patrons who dined at a restaurant in suburban Banglore.\n",
    "\n",
    "\n",
    "\n",
    "## Methodology\n",
    "\n",
    "The objective of this notebook is achieved by using an unsupervised learning technique known as `clustering`. \n",
    "\n",
    "Clustering is an unsupervised learning method is a method in which we draw references from datasets consisting of input data without labeled responses. Generally, it is used as a process to find meaningful structure, explanatory underlying processes, generative features, and groupings inherent in a set of examples.\n",
    "\n",
    "\n",
    "\n",
    "This notebook will be using"
   ]
  },
  {
   "cell_type": "markdown",
   "id": "345cb6d4-2047-46aa-8370-c3c85485a54e",
   "metadata": {},
   "source": []
  }
 ],
 "metadata": {
  "kernelspec": {
   "display_name": "Python 3 (ipykernel)",
   "language": "python",
   "name": "python3"
  },
  "language_info": {
   "codemirror_mode": {
    "name": "ipython",
    "version": 3
   },
   "file_extension": ".py",
   "mimetype": "text/x-python",
   "name": "python",
   "nbconvert_exporter": "python",
   "pygments_lexer": "ipython3",
   "version": "3.11.8"
  }
 },
 "nbformat": 4,
 "nbformat_minor": 5
}
